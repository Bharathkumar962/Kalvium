def make_change(amount, coins, num_coins):
    coins = sorted(coins, reverse=True)
    change = []
    for i, coin in enumerate(coins):
        while amount >= coin and num_coins[i] > 0:
            change.append(coin)
            amount -= coin
            num_coins[i] -= 1
    if amount > 0:
        return None  # Not enough coins available
    else:
        return change
