import random

# Function to get the player's move
def get_player_move():
    move = input("Choose your move (rock, paper, or scissors): ")
    while move.lower() not in ['rock', 'paper', 'scissors']:
        move = input("Invalid move. Choose your move (rock, paper, or scissors): ")
    return move.lower()

# Function to generate the opponent's move
def get_opponent_move():
    return random.choice(['rock', 'paper', 'scissors'])

# Function to compare the moves and decide the winner
def get_round_result(player_move, opponent_move):
    if player_move == opponent_move:
        return 'draw'
    elif (player_move == 'rock' and opponent_move == 'scissors') or \
         (player_move == 'paper' and opponent_move == 'rock') or \
         (player_move == 'scissors' and opponent_move == 'paper'):
        return 'win'
    else:
        return 'lose'

# Main game loop
player_name = input("What's your name? ")
highest_score = 0
while True:
    print(f"\nWelcome {player_name}! The highest score so far is {highest_score}.")
    player_score = 0
    while True:
        player_move = get_player_move()
        opponent_move = get_opponent_move()
        print(f"\nYou chose {player_move} and the opponent chose {opponent_move}.")

        round_result = get_round_result(player_move, opponent_move)
        if round_result == 'win':
            print("You won the round!")
            player_score += 1
        elif round_result == 'lose':
            print("You lost the round.")
        else:
            print("It's a draw.")

        if player_score > highest_score:
            highest_score = player_score
            with open('player_data.txt', 'w') as file:
                file.write(f"{player_name},{highest_score}")

        play_again = input("Do you want to play again? (y/n) ")
        if play_again.lower() != 'y':
            break
    else:
        break

print("\nThanks for playing!")
