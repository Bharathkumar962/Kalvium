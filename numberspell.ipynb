def spell_out_number(num):
    if num == 0:
        return 'zero'
    # Special case for numbers in the thousands
    if num >= 1000:
        thousands = num // 1000
        remainder = num % 1000
        if remainder == 0:
            return f"{spell_out_number(thousands)} thousand"
        else:
            return f"{spell_out_number(thousands)} thousand {spell_out_number(remainder)}"
    # Special case for numbers in the hundreds
    if num >= 100:
        hundreds = num // 100
        remainder = num % 100
        if remainder == 0:
            return f"{spell_out_number(hundreds)} hundred"
        else:
            return f"{spell_out_number(hundreds)} hundred {spell_out_number(remainder)}"
    # Special case for numbers from 11 to 19
    if num >= 11 and num <= 19:
        teens = ["eleven", "twelve", "thirteen", "fourteen", "fifteen",
                 "sixteen", "seventeen", "eighteen", "nineteen"]
        return teens[num-11]
    # Special case for numbers from 1 to 9
    if num >= 1 and num <= 9:
        ones = ["one", "two", "three", "four", "five", "six", "seven", "eight", "nine"]
        return ones[num-1]
    # Special case for the number 10
    if num == 10:
        return 'ten'
    # General case for compound numbers from 21 to 99
    if num >= 21 and num <= 99:
        tens = ["twenty", "thirty", "forty", "fifty", "sixty", "seventy", "eighty", "ninety"]
        remainder = num % 10
        if remainder == 0:
            return tens[num//10-2]
        else:
            return f"{tens[num//10-2]}-{spell_out_number(remainder)}"
    # General case for other numbers
    return str(num)

# Examples
print(spell_out_number(0)) # zero
print(spell_out_number(5)) # five
print(spell_out_number(8)) # eight
print(spell_out_number(10)) # ten
print(spell_out_number(21)) # twenty-one
print(spell_out_number(77)) # seventy-seven
print(spell_out_number(100)) # one hundred
print(spell_out_number(303)) # three hundred three
print(spell_out_number(555)) # five hundred fifty-five
print(spell_out_number(2000)) # two thousand
print(spell_out_number(3466)) # three thousand four hundred sixty-six
print(spell_out_number(2400)) # two thousand four hundred
print(spell_out_number(5300)) # fifty-three hundred
