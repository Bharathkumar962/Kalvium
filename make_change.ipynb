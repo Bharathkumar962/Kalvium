def make_change(amount, coins):
    coins = sorted(coins, reverse=True)
    change = []
    for coin in coins:
        while amount >= coin:
            change.append(coin)
            amount -= coin
    return change
